{
 "cells": [
  {
   "cell_type": "code",
   "execution_count": 0,
   "metadata": {
    "application/vnd.databricks.v1+cell": {
     "cellMetadata": {
      "byteLimit": 2048000,
      "rowLimit": 10000
     },
     "inputWidgets": {},
     "nuid": "b158e63b-476c-4159-bcf7-2494114b48d2",
     "showTitle": false,
     "tableResultSettingsMap": {},
     "title": ""
    }
   },
   "outputs": [],
   "source": [
    "table\n",
    "\n",
    "(table in schema + datafiles(parquet) + delta+log)\n",
    "\n",
    "Managed Tables\n",
    "\n",
    "1. create table tblname (id int)\n",
    "2. create table tblname as select * from tbl\n",
    "3. df=spark.read.csv(\"path\")\n",
    "df.write.saveAsTable(\"tblname\")\n",
    "\n",
    "\n",
    "(table in schema + datafiles(parquet) + delta+log) ==== default location \n",
    "\n",
    "\n",
    "DROP:  (table in schema + datafiles(parquet) + delta+log) are dropped\n",
    "    \n",
    "\n",
    "Unmanaged Table (External table)\n",
    "\n",
    "1. create table tblname (id int) location 'adls'\n",
    "2. create table tblname location 'adls' as select * from tbl\n",
    "3. df=spark.read.csv(\"path\")\n",
    "df.write.option(\"path\",\"adls\").saveAsTable(\"tblname\")\n",
    "\n",
    "DROP: table in schema is drop but metadata( data+ delta_log ) are untouched"
   ]
  },
  {
   "cell_type": "code",
   "execution_count": 0,
   "metadata": {
    "application/vnd.databricks.v1+cell": {
     "cellMetadata": {},
     "inputWidgets": {},
     "nuid": "b66f8995-e8fc-43b7-b86a-d9ad897365a5",
     "showTitle": false,
     "tableResultSettingsMap": {},
     "title": ""
    }
   },
   "outputs": [],
   "source": []
  }
 ],
 "metadata": {
  "application/vnd.databricks.v1+notebook": {
   "computePreferences": null,
   "dashboards": [],
   "environmentMetadata": {
    "base_environment": "",
    "environment_version": "2"
   },
   "inputWidgetPreferences": null,
   "language": "python",
   "notebookMetadata": {
    "pythonIndentUnit": 4
   },
   "notebookName": "Types of tabels",
   "widgets": {}
  },
  "language_info": {
   "name": "python"
  }
 },
 "nbformat": 4,
 "nbformat_minor": 0
}
