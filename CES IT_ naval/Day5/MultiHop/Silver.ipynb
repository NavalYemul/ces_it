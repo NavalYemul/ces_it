{
 "cells": [
  {
   "cell_type": "code",
   "execution_count": 0,
   "metadata": {
    "application/vnd.databricks.v1+cell": {
     "cellMetadata": {
      "byteLimit": 2048000,
      "rowLimit": 10000
     },
     "inputWidgets": {},
     "nuid": "4080ac31-8f5c-4c14-ab85-91e667bf8346",
     "showTitle": true,
     "tableResultSettingsMap": {},
     "title": "Sales_Silver"
    }
   },
   "outputs": [],
   "source": [
    "df=spark.read.table(\"dev.bronze.sales\")\n",
    "\n",
    "df_final=df.dropDuplicates().dropna().drop(\"ingestion_date\")\n",
    "\n",
    "df_final.write.mode(\"overwrite\").saveAsTable(\"dev.silver.sales_cleaned\")"
   ]
  },
  {
   "cell_type": "code",
   "execution_count": 0,
   "metadata": {
    "application/vnd.databricks.v1+cell": {
     "cellMetadata": {
      "byteLimit": 2048000,
      "implicitDf": true,
      "rowLimit": 10000
     },
     "inputWidgets": {},
     "nuid": "4ba0ae71-6402-46fd-b4d3-e3bd5b52dd94",
     "showTitle": false,
     "tableResultSettingsMap": {},
     "title": ""
    }
   },
   "outputs": [],
   "source": [
    "%sql\n",
    "select * from dev.bronze.products"
   ]
  },
  {
   "cell_type": "code",
   "execution_count": 0,
   "metadata": {
    "application/vnd.databricks.v1+cell": {
     "cellMetadata": {
      "byteLimit": 2048000,
      "implicitDf": true,
      "rowLimit": 10000
     },
     "inputWidgets": {},
     "nuid": "6d0cea16-7565-46e1-b543-fc8239f30ab2",
     "showTitle": false,
     "tableResultSettingsMap": {},
     "title": ""
    }
   },
   "outputs": [],
   "source": [
    "%sql\n",
    "CREATE OR REPLACE TABLE dev.silver.products_scd (product_id int, product_name string, product_category string, product_price double)"
   ]
  },
  {
   "cell_type": "code",
   "execution_count": 0,
   "metadata": {
    "application/vnd.databricks.v1+cell": {
     "cellMetadata": {
      "byteLimit": 2048000,
      "implicitDf": true,
      "rowLimit": 10000
     },
     "inputWidgets": {},
     "nuid": "99bc9487-dd0d-49f2-8c86-4b978a54d62d",
     "showTitle": false,
     "tableResultSettingsMap": {},
     "title": ""
    }
   },
   "outputs": [],
   "source": [
    "%sql\n",
    "WITH deduplicated_source AS (\n",
    "    SELECT \n",
    "        s.*,\n",
    "        ROW_NUMBER() OVER (PARTITION BY product_id ORDER BY seqNum DESC) as row_num\n",
    "    FROM dev.bronze.products s\n",
    ")\n",
    "MERGE INTO dev.silver.products_scd t\n",
    "USING (SELECT * FROM deduplicated_source WHERE row_num = 1\n",
    ") s\n",
    "ON t.product_id = s.product_id\n",
    "WHEN MATCHED and s.operation='UPDATE' \n",
    "    THEN \n",
    "        UPDATE SET \n",
    "    t.product_name = s.product_name,\n",
    "    t.product_category = s.product_category,\n",
    "    t.product_price = s.product_price\n",
    "WHEN MATCHED AND s.operation='DELETE'\n",
    "THEN \n",
    "DELETE\n",
    "WHEN NOT MATCHED THEN \n",
    "INSERT \n",
    "    (product_id, product_name, product_category, product_price) \n",
    "VALUES \n",
    "    (s.product_id, s.product_name, s.product_category, s.product_price)"
   ]
  },
  {
   "cell_type": "code",
   "execution_count": 0,
   "metadata": {
    "application/vnd.databricks.v1+cell": {
     "cellMetadata": {
      "byteLimit": 2048000,
      "implicitDf": true,
      "rowLimit": 10000
     },
     "inputWidgets": {},
     "nuid": "0e8ebcd4-83db-4071-a280-03bf932aabf2",
     "showTitle": false,
     "tableResultSettingsMap": {},
     "title": ""
    }
   },
   "outputs": [],
   "source": [
    "%sql\n",
    "select * from dev.silver.products_scd"
   ]
  },
  {
   "cell_type": "code",
   "execution_count": 0,
   "metadata": {
    "application/vnd.databricks.v1+cell": {
     "cellMetadata": {
      "byteLimit": 2048000,
      "implicitDf": true,
      "rowLimit": 10000
     },
     "inputWidgets": {},
     "nuid": "79caa349-550a-4870-866e-e9b2824ad7e5",
     "showTitle": false,
     "tableResultSettingsMap": {},
     "title": ""
    }
   },
   "outputs": [],
   "source": [
    "%sql\n",
    "select * from dev.bronze.customers"
   ]
  },
  {
   "cell_type": "code",
   "execution_count": 0,
   "metadata": {
    "application/vnd.databricks.v1+cell": {
     "cellMetadata": {
      "byteLimit": 2048000,
      "implicitDf": true,
      "rowLimit": 10000
     },
     "inputWidgets": {},
     "nuid": "89c2ca4e-5b94-4d56-b0f8-9275503c4863",
     "showTitle": false,
     "tableResultSettingsMap": {},
     "title": ""
    }
   },
   "outputs": [],
   "source": [
    "%sql\n",
    "CREATE OR REPLACE TABLE dev.silver.customers_scd (customer_id int, customer_name string, customer_email string, customer_city string, customer_state string, is_current BOOLEAN,effective_date date, end_date date, version_number int )"
   ]
  },
  {
   "cell_type": "code",
   "execution_count": 0,
   "metadata": {
    "application/vnd.databricks.v1+cell": {
     "cellMetadata": {
      "byteLimit": 2048000,
      "implicitDf": true,
      "rowLimit": 10000
     },
     "inputWidgets": {},
     "nuid": "e8041f97-e482-41f6-97ac-dfdd97028983",
     "showTitle": false,
     "tableResultSettingsMap": {},
     "title": ""
    }
   },
   "outputs": [],
   "source": [
    "%sql\n",
    "-- SCD Type 2 Implementation - Single MERGE Approach\n",
    "-- First, ensure your target table has the necessary SCD Type 2 columns:\n",
    "-- ALTER TABLE dev.silver.products_scd ADD COLUMN IF NOT EXISTS effective_date DATE DEFAULT CURRENT_DATE;\n",
    "-- ALTER TABLE dev.silver.products_scd ADD COLUMN IF NOT EXISTS end_date DATE;\n",
    "-- ALTER TABLE dev.silver.products_scd ADD COLUMN IF NOT EXISTS is_current BOOLEAN DEFAULT TRUE;\n",
    "-- ALTER TABLE dev.silver.products_scd ADD COLUMN IF NOT EXISTS version_number INTEGER DEFAULT 1;\n",
    "\n",
    "WITH deduplicated_source AS (\n",
    "    SELECT \n",
    "        s.*,\n",
    "        ROW_NUMBER() OVER (PARTITION BY customer_id ORDER BY sequenceNum DESC) as row_num\n",
    "    FROM dev.bronze.customers s\n",
    "),\n",
    "latest_source AS (\n",
    "    SELECT * FROM deduplicated_source WHERE row_num = 1\n",
    ")\n",
    "\n",
    "MERGE INTO dev.silver.customers_scd t\n",
    "USING latest_source s\n",
    "ON t.customer_id = s.customer_id AND t.is_current = TRUE\n",
    "\n",
    "-- Handle DELETE operations - soft delete by marking as inactive\n",
    "WHEN MATCHED AND s.operation = 'DELETE' THEN \n",
    "    UPDATE SET \n",
    "        end_date = CURRENT_DATE,\n",
    "        is_current = FALSE\n",
    "\n",
    "-- Handle UPDATE operations - only if data actually changed\n",
    "WHEN MATCHED AND s.operation = 'UPDATE' \n",
    "    AND (\n",
    "        s.customer_name != t.customer_name OR\n",
    "        s.customer_email != t.customer_email OR\n",
    "        s.customer_city != t.customer_city OR\n",
    "        s.customer_state != t.customer_state\n",
    "    ) THEN \n",
    "    UPDATE SET \n",
    "        end_date = CURRENT_DATE,\n",
    "        is_current = FALSE\n",
    "\n",
    "-- Handle INSERT operations - new records\n",
    "WHEN NOT MATCHED AND s.operation != 'DELETE' THEN \n",
    "    INSERT (\n",
    "        customer_id, \n",
    "        customer_name, \n",
    "        customer_email, \n",
    "        customer_city,\n",
    "        customer_state,\n",
    "        effective_date, \n",
    "        end_date, \n",
    "        is_current, \n",
    "        version_number\n",
    "    ) \n",
    "    VALUES (\n",
    "        s.customer_id, \n",
    "        s.customer_name, \n",
    "        s.customer_email, \n",
    "        s.customer_city,\n",
    "        s.customer_state,\n",
    "        CURRENT_DATE, \n",
    "        NULL, \n",
    "        TRUE, \n",
    "        1\n",
    "    );\n",
    "\n",
    "-- Insert new versions for updated records (run after the above MERGE)\n",
    "INSERT INTO dev.silver.customers_scd (\n",
    "    customer_id, \n",
    "    customer_name, \n",
    "    customer_email, \n",
    "    customer_city,\n",
    "    customer_state,\n",
    "    effective_date, \n",
    "    end_date, \n",
    "    is_current, \n",
    "    version_number\n",
    ")\n",
    "SELECT \n",
    "    s.customer_id,\n",
    "    s.customer_name,\n",
    "    s.customer_email,\n",
    "    s.customer_city,\n",
    "    s.customer_state\n",
    "    CURRENT_DATE + INTERVAL 1 DAY as effective_date,\n",
    "    NULL as end_date,\n",
    "    TRUE as is_current,\n",
    "    COALESCE(MAX(t.version_number), 0) + 1 as version_number\n",
    "FROM latest_source s\n",
    "INNER JOIN dev.silver.customers_scd t \n",
    "    ON s.customer_id = t.customer_id \n",
    "    AND t.end_date = CURRENT_DATE  -- Records we just closed\n",
    "WHERE s.operation = 'UPDATE'\n",
    "    AND (\n",
    "        s.customer_name != t.customer_name OR\n",
    "        s.customer_email != t.customer_email OR\n",
    "        s.customer_city != t.customer_city OR\n",
    "        s.customer_state != t.customer_state\n",
    "    )\n",
    "GROUP BY s.customer_id, s.customer_name, s.customer_email, s.customer_city, s.customer_state;"
   ]
  },
  {
   "cell_type": "code",
   "execution_count": 0,
   "metadata": {
    "application/vnd.databricks.v1+cell": {
     "cellMetadata": {
      "byteLimit": 2048000,
      "implicitDf": true,
      "rowLimit": 10000
     },
     "inputWidgets": {},
     "nuid": "ab414e0a-4373-497c-b416-5e86ed15cec2",
     "showTitle": false,
     "tableResultSettingsMap": {},
     "title": ""
    }
   },
   "outputs": [],
   "source": [
    "%sql\n",
    "-- SCD Type 2 Implementation - Single MERGE Approach\n",
    "-- First, ensure your target table has the necessary SCD Type 2 columns:\n",
    "-- ALTER TABLE dev.silver.products_scd ADD COLUMN IF NOT EXISTS effective_date DATE DEFAULT CURRENT_DATE;\n",
    "-- ALTER TABLE dev.silver.products_scd ADD COLUMN IF NOT EXISTS end_date DATE;\n",
    "-- ALTER TABLE dev.silver.products_scd ADD COLUMN IF NOT EXISTS is_current BOOLEAN DEFAULT TRUE;\n",
    "-- ALTER TABLE dev.silver.products_scd ADD COLUMN IF NOT EXISTS version_number INTEGER DEFAULT 1;\n",
    "\n",
    "WITH deduplicated_source AS (\n",
    "    SELECT \n",
    "        s.*,\n",
    "        ROW_NUMBER() OVER (PARTITION BY customer_id ORDER BY sequenceNum DESC) as row_num\n",
    "    FROM dev.bronze.customers s\n",
    "),\n",
    "latest_source AS (\n",
    "    SELECT * FROM deduplicated_source WHERE row_num = 1\n",
    ")\n",
    "\n",
    "MERGE INTO dev.silver.customers_scd t\n",
    "USING latest_source s\n",
    "ON t.customer_id = s.customer_id AND t.is_current = TRUE\n",
    "\n",
    "-- Handle DELETE operations - soft delete by marking as inactive\n",
    "WHEN MATCHED AND s.operation = 'DELETE' THEN \n",
    "    UPDATE SET \n",
    "        end_date = CURRENT_DATE,\n",
    "        is_current = FALSE\n",
    "\n",
    "-- Handle UPDATE operations - only if data actually changed\n",
    "WHEN MATCHED AND s.operation = 'UPDATE' \n",
    "    AND (\n",
    "        s.customer_name != t.customer_name OR\n",
    "        s.customer_email != t.customer_email OR\n",
    "        s.customer_city != t.customer_city OR\n",
    "        s.customer_state != t.customer_state\n",
    "    ) THEN \n",
    "    UPDATE SET \n",
    "        end_date = CURRENT_DATE,\n",
    "        is_current = FALSE\n",
    "\n",
    "-- Handle INSERT operations - new records\n",
    "WHEN NOT MATCHED AND s.operation != 'DELETE' THEN \n",
    "    INSERT (\n",
    "        customer_id, \n",
    "        customer_name, \n",
    "        customer_email, \n",
    "        customer_city,\n",
    "        customer_state,\n",
    "        effective_date, \n",
    "        end_date, \n",
    "        is_current, \n",
    "        version_number\n",
    "    ) \n",
    "    VALUES (\n",
    "        s.customer_id, \n",
    "        s.customer_name, \n",
    "        s.customer_email, \n",
    "        s.customer_city,\n",
    "        s.customer_state,\n",
    "        CURRENT_DATE, \n",
    "        NULL, \n",
    "        TRUE, \n",
    "        1\n",
    "    );\n",
    "\n",
    "-- Insert new versions for updated records (run after the above MERGE)\n",
    "INSERT INTO dev.silver.customers_scd (\n",
    "    customer_id, \n",
    "    customer_name, \n",
    "    customer_email, \n",
    "    customer_city,\n",
    "    customer_state,\n",
    "    effective_date, \n",
    "    end_date, \n",
    "    is_current, \n",
    "    version_number\n",
    ")\n",
    "SELECT \n",
    "    s.customer_id,\n",
    "    s.customer_name,\n",
    "    s.customer_email,\n",
    "    s.customer_city,\n",
    "    s.customer_state,\n",
    "    DATE_ADD(CURRENT_DATE, 1) as effective_date,\n",
    "    NULL as end_date,\n",
    "    TRUE as is_current,\n",
    "    COALESCE(MAX(t.version_number), 0) + 1 as version_number\n",
    "FROM latest_source s\n",
    "INNER JOIN dev.silver.customers_scd t \n",
    "    ON s.customer_id = t.customer_id \n",
    "    AND t.end_date = CURRENT_DATE  -- Records we just closed\n",
    "WHERE s.operation = 'UPDATE'\n",
    "    AND (\n",
    "        s.customer_name != t.customer_name OR\n",
    "        s.customer_email != t.customer_email OR\n",
    "        s.customer_city != t.customer_city OR\n",
    "        s.customer_state != t.customer_state\n",
    "    )\n",
    "GROUP BY s.customer_id, s.customer_name, s.customer_email, s.customer_city, s.customer_state;"
   ]
  }
 ],
 "metadata": {
  "application/vnd.databricks.v1+notebook": {
   "computePreferences": {
    "hardware": {
     "accelerator": null,
     "gpuPoolId": null,
     "memory": null
    }
   },
   "dashboards": [],
   "environmentMetadata": {
    "base_environment": "",
    "environment_version": "2"
   },
   "inputWidgetPreferences": null,
   "language": "python",
   "notebookMetadata": {
    "mostRecentlyExecutedCommandWithImplicitDF": {
     "commandId": 7556965526139224,
     "dataframes": [
      "_sqldf"
     ]
    },
    "pythonIndentUnit": 4
   },
   "notebookName": "Silver",
   "widgets": {}
  },
  "language_info": {
   "name": "python"
  }
 },
 "nbformat": 4,
 "nbformat_minor": 0
}
