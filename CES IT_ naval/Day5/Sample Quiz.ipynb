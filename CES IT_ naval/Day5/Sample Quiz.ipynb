{
 "cells": [
  {
   "cell_type": "code",
   "execution_count": 0,
   "metadata": {
    "application/vnd.databricks.v1+cell": {
     "cellMetadata": {},
     "inputWidgets": {},
     "nuid": "dec0a0b6-b6db-45c4-91fa-1787774858bc",
     "showTitle": false,
     "tableResultSettingsMap": {},
     "title": ""
    }
   },
   "outputs": [],
   "source": [
    "A data engineer has realized that they made a mistake when making a daily update to a table. They need to use Delta time travel to restore the table to a version that is 3 days old. However, when the data engineer attempts to time travel to the older version, they are unable to restore the data because the data files have been deleted.\n",
    "Which of the following explains why the data files are no longer present?\n",
    "\n",
    "\n",
    "A. The VACUUM command was run on the table\n",
    "B. The TIME TRAVEL command was run on the table\n",
    "C. The DELETE HISTORY command was run on the table\n",
    "D. The OPTIMIZE command was nun on the table\n",
    "E. The HISTORY command was run on the table\n",
    "\n",
    "\n",
    "Answer: A"
   ]
  },
  {
   "cell_type": "code",
   "execution_count": 0,
   "metadata": {
    "application/vnd.databricks.v1+cell": {
     "cellMetadata": {},
     "inputWidgets": {},
     "nuid": "a20c3c95-3eab-4315-9052-63776ca4efa2",
     "showTitle": false,
     "tableResultSettingsMap": {},
     "title": ""
    }
   },
   "outputs": [],
   "source": [
    "Which of the following commands will return the location of database customer360?\n",
    "\n",
    "A. DESCRIBE LOCATION customer360;\n",
    "B. DROP DATABASE customer360;\n",
    "C. DESCRIBE DATABASE customer360;\n",
    "D. ALTER DATABASE customer360 SET DBPROPERTIES ('location' = '/user'};\n",
    "E. USE DATABASE customer360;\n",
    "\n",
    "Answer: C"
   ]
  }
 ],
 "metadata": {
  "application/vnd.databricks.v1+notebook": {
   "computePreferences": null,
   "dashboards": [],
   "environmentMetadata": {
    "base_environment": "",
    "environment_version": "2"
   },
   "inputWidgetPreferences": null,
   "language": "sql",
   "notebookMetadata": {
    "pythonIndentUnit": 4
   },
   "notebookName": "Sample Quiz",
   "widgets": {}
  },
  "language_info": {
   "name": "sql"
  }
 },
 "nbformat": 4,
 "nbformat_minor": 0
}
