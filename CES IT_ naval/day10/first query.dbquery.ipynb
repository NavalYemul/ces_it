{
 "cells": [
  {
   "cell_type": "code",
   "execution_count": 0,
   "metadata": {
    "application/vnd.databricks.v1+cell": {
     "cellMetadata": {
      "byteLimit": 10485760,
      "rowLimit": 1000
     },
     "inputWidgets": {},
     "nuid": "2ddd784e-af18-4133-b1dd-1bdd3f38df5b",
     "showTitle": false,
     "tableResultSettingsMap": {},
     "title": ""
    }
   },
   "outputs": [],
   "source": [
    "select * from pipeline.gold.top_customers;\n",
    "\n",
    "\n",
    "select * from pipeline.gold.customers_active;\n",
    "\n",
    "\n",
    "select * from json.`/Volumes/dev/formula1/raw/drivers.json`"
   ]
  }
 ],
 "metadata": {
  "application/vnd.databricks.v1+notebook": {
   "computePreferences": null,
   "dashboards": [],
   "environmentMetadata": null,
   "inputWidgetPreferences": null,
   "language": "sql",
   "notebookMetadata": {
    "pythonIndentUnit": 4,
    "sqlQueryOptions": {
     "applyAutoLimit": true,
     "catalog": "pipeline",
     "schema": "gold"
    }
   },
   "notebookName": "first query.dbquery.ipynb",
   "widgets": {}
  },
  "language_info": {
   "name": "sql"
  }
 },
 "nbformat": 4,
 "nbformat_minor": 0
}
