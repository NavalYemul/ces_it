{
 "cells": [
  {
   "cell_type": "code",
   "execution_count": 0,
   "metadata": {
    "application/vnd.databricks.v1+cell": {
     "cellMetadata": {},
     "inputWidgets": {},
     "nuid": "c6b0bc81-4531-4db6-a9e5-1e641a5275da",
     "showTitle": false,
     "tableResultSettingsMap": {},
     "title": ""
    }
   },
   "outputs": [],
   "source": [
    "Datawarehouse: ACID support \n",
    "\n",
    "structured (table)\n",
    "\n",
    "Data lake : (Adls, s3): structured, semi, unstructured\n",
    "\n",
    "NO ACID support \n",
    "\n",
    "Lakehouse: DL + DW"
   ]
  },
  {
   "cell_type": "code",
   "execution_count": 0,
   "metadata": {
    "application/vnd.databricks.v1+cell": {
     "cellMetadata": {},
     "inputWidgets": {},
     "nuid": "f98139af-1a9f-480c-b9bf-d7ae756759fa",
     "showTitle": false,
     "tableResultSettingsMap": {},
     "title": ""
    }
   },
   "outputs": [],
   "source": [
    "lakehouse: help you to build a lakehouse on top of your data lake: \n",
    "    Delta, Iceberg, Hudi"
   ]
  },
  {
   "cell_type": "code",
   "execution_count": 0,
   "metadata": {
    "application/vnd.databricks.v1+cell": {
     "cellMetadata": {},
     "inputWidgets": {},
     "nuid": "8a38af9b-7c39-497c-b621-083f4c86e44b",
     "showTitle": false,
     "tableResultSettingsMap": {},
     "title": ""
    }
   },
   "outputs": [],
   "source": [
    "source\n",
    "csv, json, excel, avro, xml, orc, parquet, text, binary\n",
    "\n",
    "\n",
    "target: parquet \n",
    "\n",
    "\n",
    "\n",
    "csv (1 gb)\n",
    "\n",
    "(Upto 97%)\n",
    "\n",
    "parquet (17 mb)"
   ]
  },
  {
   "cell_type": "code",
   "execution_count": 0,
   "metadata": {
    "application/vnd.databricks.v1+cell": {
     "cellMetadata": {},
     "inputWidgets": {},
     "nuid": "22036334-2fc4-4254-8d5e-bbb006db43ea",
     "showTitle": false,
     "tableResultSettingsMap": {},
     "title": ""
    }
   },
   "outputs": [],
   "source": [
    "Iceberg= parquet + metadata Snowflake ( iceberg by default)\n",
    "\n",
    "Delta lake = parquet+ delta_logs (Databricks by default)\n",
    "\n",
    "Uniform: iceberg, delta ,hudi "
   ]
  }
 ],
 "metadata": {
  "application/vnd.databricks.v1+notebook": {
   "computePreferences": null,
   "dashboards": [],
   "environmentMetadata": {
    "base_environment": "",
    "environment_version": "2"
   },
   "inputWidgetPreferences": null,
   "language": "python",
   "notebookMetadata": {
    "pythonIndentUnit": 4
   },
   "notebookName": "Lakehouse",
   "widgets": {}
  },
  "language_info": {
   "name": "python"
  }
 },
 "nbformat": 4,
 "nbformat_minor": 0
}
